{
 "metadata": {
  "language_info": {
   "codemirror_mode": {
    "name": "ipython",
    "version": 3
   },
   "file_extension": ".py",
   "mimetype": "text/x-python",
   "name": "python",
   "nbconvert_exporter": "python",
   "pygments_lexer": "ipython3",
   "version": "3.8.5-final"
  },
  "orig_nbformat": 2,
  "kernelspec": {
   "name": "python3",
   "display_name": "Python 3.8.5 64-bit ('bowen': conda)",
   "metadata": {
    "interpreter": {
     "hash": "ace0bf8c0cd6b379471670e79c02ab19f36fe209fa15732edf38966d66d7dc5b"
    }
   }
  }
 },
 "nbformat": 4,
 "nbformat_minor": 2,
 "cells": [
  {
   "cell_type": "code",
   "execution_count": 17,
   "metadata": {},
   "outputs": [
    {
     "output_type": "stream",
     "name": "stdout",
     "text": [
      "21\n(21,)\n<class 'numpy.ndarray'>\n(21, 1)\n<class 'numpy.ndarray'>\n[[35. ]\n [36.5]\n [38. ]\n [39.5]\n [41. ]\n [42.5]\n [44. ]\n [45.5]\n [47. ]\n [48.5]\n [50. ]\n [51.5]\n [53. ]\n [54.5]\n [56. ]\n [57.5]\n [59. ]\n [60.5]\n [62. ]\n [63.5]\n [65. ]]\n"
     ]
    }
   ],
   "source": [
    "import pandas as pd\n",
    "\n",
    "df = pd.read_csv(\"./data/sea_level_data.csv\", skiprows=6)\n",
    "years = df[\"year\"].to_numpy()\n",
    "levels = df[\"sea_level_inches\"].to_numpy()\n"
   ]
  },
  {
   "cell_type": "code",
   "execution_count": null,
   "metadata": {},
   "outputs": [],
   "source": []
  }
 ]
}